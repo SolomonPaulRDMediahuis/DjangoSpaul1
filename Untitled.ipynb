{
 "cells": [
  {
   "cell_type": "code",
   "execution_count": null,
   "id": "2d4e5bf1-c91b-4e3e-90f4-f3a4e4f755c0",
   "metadata": {},
   "outputs": [],
   "source": [
    "from django.apps import AppConfig\n",
    "\n",
    "\n",
    "class TodoConfig(AppConfig):\n",
    "    default_auto_field = 'django.db.models.BigAutoField'\n",
    "    name = 'todo'\n"
   ]
  }
 ],
 "metadata": {
  "kernelspec": {
   "display_name": "Python 3 (ipykernel)",
   "language": "python",
   "name": "python3"
  },
  "language_info": {
   "codemirror_mode": {
    "name": "ipython",
    "version": 3
   },
   "file_extension": ".py",
   "mimetype": "text/x-python",
   "name": "python",
   "nbconvert_exporter": "python",
   "pygments_lexer": "ipython3",
   "version": "3.9.12"
  }
 },
 "nbformat": 4,
 "nbformat_minor": 5
}
